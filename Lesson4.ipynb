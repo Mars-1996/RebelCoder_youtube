{
 "cells": [
  {
   "cell_type": "code",
   "execution_count": 1,
   "metadata": {},
   "outputs": [],
   "source": [
    "Nucleotides = [\"A\", \"C\", \"G\", \"T\"]"
   ]
  },
  {
   "cell_type": "code",
   "execution_count": 11,
   "metadata": {},
   "outputs": [],
   "source": [
    "import random\n",
    "rndDNAstr = \"\".join([random.choice(Nucleotides)\n",
    "                     for nuc in range(50)])"
   ]
  },
  {
   "cell_type": "code",
   "execution_count": 19,
   "metadata": {},
   "outputs": [],
   "source": [
    "DNA_Codons = {\n",
    "    # 'M' - START, '_' - STOP\n",
    "    \"GCT\": \"A\", \"GCC\": \"A\", \"GCA\": \"A\", \"GCG\": \"A\",\n",
    "    \"TGT\": \"C\", \"TGC\": \"C\",\n",
    "    \"GAT\": \"D\", \"GAC\": \"D\",\n",
    "    \"GAA\": \"E\", \"GAG\": \"E\",\n",
    "    \"TTT\": \"F\", \"TTC\": \"F\",\n",
    "    \"GGT\": \"G\", \"GGC\": \"G\", \"GGA\": \"G\", \"GGG\": \"G\",\n",
    "    \"CAT\": \"H\", \"CAC\": \"H\",\n",
    "    \"ATA\": \"I\", \"ATT\": \"I\", \"ATC\": \"I\",\n",
    "    \"AAA\": \"K\", \"AAG\": \"K\",\n",
    "    \"TTA\": \"L\", \"TTG\": \"L\", \"CTT\": \"L\", \"CTC\": \"L\", \"CTA\": \"L\", \"CTG\": \"L\",\n",
    "    \"ATG\": \"M\",\n",
    "    \"AAT\": \"N\", \"AAC\": \"N\",\n",
    "    \"CCT\": \"P\", \"CCC\": \"P\", \"CCA\": \"P\", \"CCG\": \"P\",\n",
    "    \"CAA\": \"Q\", \"CAG\": \"Q\",\n",
    "    \"CGT\": \"R\", \"CGC\": \"R\", \"CGA\": \"R\", \"CGG\": \"R\", \"AGA\": \"R\", \"AGG\": \"R\",\n",
    "    \"TCT\": \"S\", \"TCC\": \"S\", \"TCA\": \"S\", \"TCG\": \"S\", \"AGT\": \"S\", \"AGC\": \"S\",\n",
    "    \"ACT\": \"T\", \"ACC\": \"T\", \"ACA\": \"T\", \"ACG\": \"T\",\n",
    "    \"GTT\": \"V\", \"GTC\": \"V\", \"GTA\": \"V\", \"GTG\": \"V\",\n",
    "    \"TGG\": \"W\",\n",
    "    \"TAT\": \"Y\", \"TAC\": \"Y\",\n",
    "    \"TAA\": \"_\", \"TAG\": \"_\", \"TGA\": \"_\"\n",
    "}"
   ]
  },
  {
   "cell_type": "code",
   "execution_count": 20,
   "metadata": {},
   "outputs": [],
   "source": [
    "def translate_seq(seq, init_pos = 0):\n",
    "    #translate a DNA sequence into the aminoacid sequence\n",
    "    return[DNA_Codons[seq[pos:pos+3]] for pos in range(init_pos, len(seq) -2, 3)]\n",
    "#I don't need to specify the initial position every time I call the function, because I've set here that the initial position is always 0\n",
    "# If I want to start from a different position I have to specify it when I call the function."
   ]
  },
  {
   "cell_type": "code",
   "execution_count": 21,
   "metadata": {},
   "outputs": [
    {
     "name": "stdout",
     "output_type": "stream",
     "text": [
      "AACACTCGTGCTCTGCCGAGAAATCAGTCGCTTATCGTTGGACGATCGAC\n",
      "['N', 'T', 'R', 'A', 'L', 'P', 'R', 'N', 'Q', 'S', 'L', 'I', 'V', 'G', 'R', 'S']\n"
     ]
    }
   ],
   "source": [
    "print(rndDNAstr)\n",
    "print(translate_seq(rndDNAstr))"
   ]
  },
  {
   "cell_type": "code",
   "execution_count": 30,
   "metadata": {},
   "outputs": [],
   "source": [
    "import collections\n",
    "def codon_usage(seq, aminoacid):\n",
    "    #it provides the frequency of each codon \n",
    "    tmp_list = []\n",
    "    for i in range(0, len(seq) - 2, 3):\n",
    "        if DNA_Codons[seq[i:i+3]] == aminoacid:\n",
    "            tmp_list.append(seq[i:i+3])\n",
    "    freq_dict = dict(collections.Counter(tmp_list))\n",
    "    print(freq_dict)\n",
    "    total_wight = sum(freq_dict.values())\n",
    "    print(total_wight)\n",
    "    for seq in freq_dict:\n",
    "        freq_dict[seq] = round(freq_dict[seq] / total_wight, 2)\n",
    "    return freq_dict\n",
    "\n",
    "#Counter is a method from collections, that I have to import"
   ]
  },
  {
   "cell_type": "code",
   "execution_count": 31,
   "metadata": {},
   "outputs": [
    {
     "name": "stdout",
     "output_type": "stream",
     "text": [
      "{'CGT': 1, 'AGA': 1, 'CGA': 1}\n",
      "3\n",
      "{'CGT': 0.33, 'AGA': 0.33, 'CGA': 0.33}\n"
     ]
    }
   ],
   "source": [
    "print(codon_usage(rndDNAstr, \"R\"))"
   ]
  },
  {
   "cell_type": "code",
   "execution_count": null,
   "metadata": {},
   "outputs": [],
   "source": []
  }
 ],
 "metadata": {
  "kernelspec": {
   "display_name": "Python 3",
   "language": "python",
   "name": "python3"
  },
  "language_info": {
   "codemirror_mode": {
    "name": "ipython",
    "version": 3
   },
   "file_extension": ".py",
   "mimetype": "text/x-python",
   "name": "python",
   "nbconvert_exporter": "python",
   "pygments_lexer": "ipython3",
   "version": "3.8.3"
  }
 },
 "nbformat": 4,
 "nbformat_minor": 4
}
