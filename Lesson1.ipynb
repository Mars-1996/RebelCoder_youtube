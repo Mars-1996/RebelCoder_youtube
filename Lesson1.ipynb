{
 "cells": [
  {
   "cell_type": "code",
   "execution_count": 13,
   "metadata": {},
   "outputs": [],
   "source": [
    "Nucleotides = [\"A\", \"C\", \"G\", \"T\"]"
   ]
  },
  {
   "cell_type": "code",
   "execution_count": 14,
   "metadata": {},
   "outputs": [],
   "source": [
    "def ValidateSeq(dna_seq):\n",
    "    tmpseq = dna_seq.upper() #it creates a temporary string which is upper case (a != A)\n",
    "    for nuc in tmpseq:\n",
    "        if nuc not in Nucleotides:\n",
    "            return False\n",
    "    return tmpseq\n",
    "\n",
    "\n",
    "\n",
    "# I have some data and I have to validate I am working with valid DNA strings composed only of A G C T."
   ]
  },
  {
   "cell_type": "code",
   "execution_count": 15,
   "metadata": {},
   "outputs": [],
   "source": [
    "import random\n",
    "rndDNAstr = \"\".join([random.choice(Nucleotides)\n",
    "                     for nuc in range(50)])"
   ]
  },
  {
   "cell_type": "code",
   "execution_count": 16,
   "metadata": {},
   "outputs": [],
   "source": [
    "def Count_Nuc_Frequency(seq):\n",
    "    tmp_freq_dict = {\"A\": 0, \"C\": 0, \"G\": 0, \"T\": 0}\n",
    "    for nuc in seq:\n",
    "        tmp_freq_dict[nuc] += 1\n",
    "    return tmp_freq_dict"
   ]
  },
  {
   "cell_type": "code",
   "execution_count": 17,
   "metadata": {},
   "outputs": [],
   "source": [
    "import collections\n",
    "def Optimized_Count_Nuc_Frequency(seq):\n",
    "    return dict(collections.Counter(seq))"
   ]
  },
  {
   "cell_type": "code",
   "execution_count": 18,
   "metadata": {},
   "outputs": [
    {
     "name": "stdout",
     "output_type": "stream",
     "text": [
      "{'A': 13, 'C': 11, 'G': 13, 'T': 13}\n"
     ]
    }
   ],
   "source": [
    "DnaStr = ValidateSeq(rndDNAstr)\n",
    "print(Count_Nuc_Frequency(DnaStr))"
   ]
  },
  {
   "cell_type": "code",
   "execution_count": 19,
   "metadata": {},
   "outputs": [
    {
     "name": "stdout",
     "output_type": "stream",
     "text": [
      "{'T': 13, 'A': 13, 'G': 13, 'C': 11}\n"
     ]
    }
   ],
   "source": [
    "DnaStr = ValidateSeq(rndDNAstr)\n",
    "print(Optimized_Count_Nuc_Frequency(DnaStr))"
   ]
  },
  {
   "cell_type": "code",
   "execution_count": 25,
   "metadata": {},
   "outputs": [
    {
     "name": "stdout",
     "output_type": "stream",
     "text": [
      "\n",
      "Sequence: TATGACCACTTCCACATTCTGGTGTACTACACAGTCAGTAGTAGGGGGAG\n",
      "\n",
      "\n",
      " [1] + Sequence Lenght: 50 \n",
      "\n",
      "\n",
      " [2] + Nucleotide Frequency: {'A': 13, 'C': 11, 'G': 13, 'T': 13} \n",
      "\n"
     ]
    }
   ],
   "source": [
    "print(f'\\nSequence: {DnaStr}\\n')\n",
    "print(f'\\n [1] + Sequence Lenght: {len(DnaStr)} \\n')\n",
    "print(f'\\n [2] + Nucleotide Frequency: {Count_Nuc_Frequency(DnaStr)} \\n')"
   ]
  }
 ],
 "metadata": {
  "kernelspec": {
   "display_name": "Python 3",
   "language": "python",
   "name": "python3"
  },
  "language_info": {
   "codemirror_mode": {
    "name": "ipython",
    "version": 3
   },
   "file_extension": ".py",
   "mimetype": "text/x-python",
   "name": "python",
   "nbconvert_exporter": "python",
   "pygments_lexer": "ipython3",
   "version": "3.8.3"
  }
 },
 "nbformat": 4,
 "nbformat_minor": 4
}
