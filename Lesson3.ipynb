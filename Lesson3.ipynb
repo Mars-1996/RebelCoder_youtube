{
 "cells": [
  {
   "cell_type": "code",
   "execution_count": 4,
   "metadata": {},
   "outputs": [],
   "source": [
    "Nucleotides = [\"A\", \"C\", \"G\", \"T\"]"
   ]
  },
  {
   "cell_type": "code",
   "execution_count": 5,
   "metadata": {},
   "outputs": [],
   "source": [
    "import random\n",
    "rndDNAstr = \"\".join([random.choice(Nucleotides)\n",
    "                     for nuc in range(50)])"
   ]
  },
  {
   "cell_type": "code",
   "execution_count": 6,
   "metadata": {},
   "outputs": [],
   "source": [
    "def gc_content(seq):\n",
    "    return round((seq.count(\"C\") + seq.count(\"G\")) / len(seq) * 100)\n",
    "# the round() function returns a rouded number"
   ]
  },
  {
   "cell_type": "code",
   "execution_count": 7,
   "metadata": {},
   "outputs": [
    {
     "name": "stdout",
     "output_type": "stream",
     "text": [
      "46\n"
     ]
    }
   ],
   "source": [
    "print(gc_content(rndDNAstr))"
   ]
  },
  {
   "cell_type": "code",
   "execution_count": 8,
   "metadata": {},
   "outputs": [],
   "source": [
    "def gc_content_subseq(seq, k = 20):\n",
    "# GC content in a DNA/RNA sub-sequence of lenght k\n",
    "    res = []\n",
    "    for i in range(0, len(seq) - k + 1, k):\n",
    "        subseq = seq[i:i+k]\n",
    "        res.append(gc_content(subseq))\n",
    "    return res\n",
    "#range(0, len(seq) - k + 1, k) from 0 until the end of the seq, the window jumps every k"
   ]
  },
  {
   "cell_type": "code",
   "execution_count": 11,
   "metadata": {},
   "outputs": [
    {
     "name": "stdout",
     "output_type": "stream",
     "text": [
      "[20, 60, 20, 40, 60, 80, 20, 60, 40, 60]\n"
     ]
    }
   ],
   "source": [
    "print(gc_content_subseq(rndDNAstr, k = 5))"
   ]
  },
  {
   "cell_type": "code",
   "execution_count": 12,
   "metadata": {},
   "outputs": [
    {
     "name": "stdout",
     "output_type": "stream",
     "text": [
      "\n",
      "Sequence: TTTACCTGCATGAATTCTGATTCGCTGGGCTCAAAGGTGTGGTATCACGA\n",
      "\n",
      "\n",
      " GC Content: 46\n",
      "\n",
      "\n",
      " GC Content in subSection: [20, 60, 20, 40, 60, 80, 20, 60, 40, 60]\n",
      "\n"
     ]
    }
   ],
   "source": [
    "print(f'\\nSequence: {rndDNAstr}\\n')\n",
    "print(f'\\n GC Content: {gc_content(rndDNAstr)}\\n')\n",
    "print(f'\\n GC Content in subSection: {gc_content_subseq(rndDNAstr, k = 5)}\\n')"
   ]
  },
  {
   "cell_type": "code",
   "execution_count": null,
   "metadata": {},
   "outputs": [],
   "source": []
  }
 ],
 "metadata": {
  "kernelspec": {
   "display_name": "Python 3",
   "language": "python",
   "name": "python3"
  },
  "language_info": {
   "codemirror_mode": {
    "name": "ipython",
    "version": 3
   },
   "file_extension": ".py",
   "mimetype": "text/x-python",
   "name": "python",
   "nbconvert_exporter": "python",
   "pygments_lexer": "ipython3",
   "version": "3.8.3"
  }
 },
 "nbformat": 4,
 "nbformat_minor": 4
}
