{
 "cells": [
  {
   "cell_type": "code",
   "execution_count": 5,
   "metadata": {},
   "outputs": [],
   "source": [
    "Nucleotides = [\"A\", \"C\", \"G\", \"T\"]"
   ]
  },
  {
   "cell_type": "code",
   "execution_count": 6,
   "metadata": {},
   "outputs": [],
   "source": [
    "import random\n",
    "rndDNAstr = \"\".join([random.choice(Nucleotides)\n",
    "                     for nuc in range(50)])"
   ]
  },
  {
   "cell_type": "code",
   "execution_count": 7,
   "metadata": {},
   "outputs": [
    {
     "name": "stdout",
     "output_type": "stream",
     "text": [
      "CCTAACTAATTCGGTAGAGTGGGGCTGTGGACTATTTGGTTGCTAAACAG\n"
     ]
    }
   ],
   "source": [
    "print(rndDNAstr)"
   ]
  },
  {
   "cell_type": "code",
   "execution_count": 8,
   "metadata": {},
   "outputs": [],
   "source": [
    "def Transcription(seq):\n",
    "    return seq.replace(\"T\", \"U\")"
   ]
  },
  {
   "cell_type": "code",
   "execution_count": 9,
   "metadata": {},
   "outputs": [
    {
     "name": "stdout",
     "output_type": "stream",
     "text": [
      "CCUAACUAAUUCGGUAGAGUGGGGCUGUGGACUAUUUGGUUGCUAAACAG\n"
     ]
    }
   ],
   "source": [
    "print(Transcription(rndDNAstr))"
   ]
  },
  {
   "cell_type": "code",
   "execution_count": 10,
   "metadata": {},
   "outputs": [],
   "source": [
    "Dna_Reverse_complement = {\"A\": \"T\", \"T\": \"A\", \"G\": \"C\", \"C\": \"G\"}"
   ]
  },
  {
   "cell_type": "code",
   "execution_count": 11,
   "metadata": {},
   "outputs": [],
   "source": [
    "def Reverse_complement(seq):\n",
    "    return \"\".join([Dna_Reverse_complement[nuc] for nuc in seq])[::-1]\n",
    "# The function iterates through every single position in the seq, if it finds an A it substitutes with T...\n",
    "# [::-1] is used to reverse the string\n",
    "    #Alternative:\n",
    "    #mapping = str.maketrans(\"ATCG\", \"TAGC\")\n",
    "    #return seq.translate(mapping)[::-1]"
   ]
  },
  {
   "cell_type": "code",
   "execution_count": 12,
   "metadata": {},
   "outputs": [
    {
     "name": "stdout",
     "output_type": "stream",
     "text": [
      "CTGTTTAGCAACCAAATAGTCCACAGCCCCACTCTACCGAATTAGTTAGG\n"
     ]
    }
   ],
   "source": [
    "print(Reverse_complement(rndDNAstr))"
   ]
  },
  {
   "cell_type": "markdown",
   "metadata": {},
   "source": [
    "# Reverse"
   ]
  },
  {
   "cell_type": "code",
   "execution_count": 15,
   "metadata": {},
   "outputs": [
    {
     "name": "stdout",
     "output_type": "stream",
     "text": [
      "TEST\n",
      "TSET\n"
     ]
    }
   ],
   "source": [
    "tempStr = \"TEST\"\n",
    "print(tempStr)\n",
    "print(tempStr[::-1])"
   ]
  },
  {
   "cell_type": "code",
   "execution_count": 26,
   "metadata": {},
   "outputs": [],
   "source": [
    "def Colored(seq):\n",
    "    bcolors = {\n",
    "        'A': '\\033[92m',\n",
    "        'C': '\\033[94m',\n",
    "        'G': '\\033[93m',\n",
    "        'T': '\\033[91m',\n",
    "        'U': '\\033[91m',\n",
    "        'reset': '\\033[0;0m'\n",
    "    }\n",
    "    \n",
    "    tmpStr = \"\"\n",
    "    \n",
    "    for nuc in seq:\n",
    "        if nuc in bcolors:\n",
    "            tmpStr += bcolors[nuc] + nuc\n",
    "        else:\n",
    "            tmpStr += bcolors[\"reset\"] + nuc\n",
    "    return tmpStr + '\\033[0;0m'\n",
    "    "
   ]
  },
  {
   "cell_type": "code",
   "execution_count": 30,
   "metadata": {},
   "outputs": [
    {
     "name": "stdout",
     "output_type": "stream",
     "text": [
      "\u001b[92mA\u001b[93mG\u001b[93mG\u001b[91mT\u001b[94mC\u001b[94mC\u001b[91mT\u001b[0;0m\n"
     ]
    }
   ],
   "source": [
    "DNA = \"AGGTCCT\"\n",
    "print(Colored(DNA))"
   ]
  },
  {
   "cell_type": "code",
   "execution_count": 29,
   "metadata": {},
   "outputs": [
    {
     "name": "stdout",
     "output_type": "stream",
     "text": [
      "\n",
      "Sequence: CCTAACTAATTCGGTAGAGTGGGGCTGTGGACTATTTGGTTGCTAAACAG\n",
      "\n",
      "\n",
      " [1] Sequence Lenght: 50 \n",
      "\n",
      "\n",
      " [2] DNA/RNA Transcription: CCUAACUAAUUCGGUAGAGUGGGGCUGUGGACUAUUUGGUUGCUAAACAG \n",
      "\n",
      "\n",
      " [3] Dna String + Complement + Reverse Complement : \n",
      "5' CCTAACTAATTCGGTAGAGTGGGGCTGTGGACTATTTGGTTGCTAAACAG 3' \n",
      "   ||||||||||||||||||||||||||||||||||||||||||||||||||\n",
      "3' GGATTGATTAAGCCATCTCACCCCGACACCTGATAAACCAACGATTTGTC 5' [Complement]\n",
      "5' CTGTTTAGCAACCAAATAGTCCACAGCCCCACTCTACCGAATTAGTTAGG 3' [Rev. Complement]\n",
      "\n"
     ]
    }
   ],
   "source": [
    "print(f'\\nSequence: {rndDNAstr}\\n')\n",
    "print(f'\\n [1] Sequence Lenght: {len(rndDNAstr)} \\n')\n",
    "print(f'\\n [2] DNA/RNA Transcription: {Transcription(rndDNAstr)} \\n')\n",
    "print(f\"\\n [3] Dna String + Complement + Reverse Complement : \\n5' {rndDNAstr} 3' \")\n",
    "print(f\"   {''.join(['|' for c in range(len(rndDNAstr))])}\")\n",
    "print(f\"3' {Reverse_complement(rndDNAstr)[::-1]} 5' [Complement]\")\n",
    "print((f\"5' {Reverse_complement(rndDNAstr)} 3' [Rev. Complement]\\n\"))"
   ]
  },
  {
   "cell_type": "code",
   "execution_count": null,
   "metadata": {},
   "outputs": [],
   "source": []
  },
  {
   "cell_type": "code",
   "execution_count": null,
   "metadata": {},
   "outputs": [],
   "source": []
  }
 ],
 "metadata": {
  "kernelspec": {
   "display_name": "Python 3",
   "language": "python",
   "name": "python3"
  },
  "language_info": {
   "codemirror_mode": {
    "name": "ipython",
    "version": 3
   },
   "file_extension": ".py",
   "mimetype": "text/x-python",
   "name": "python",
   "nbconvert_exporter": "python",
   "pygments_lexer": "ipython3",
   "version": "3.8.3"
  }
 },
 "nbformat": 4,
 "nbformat_minor": 4
}
