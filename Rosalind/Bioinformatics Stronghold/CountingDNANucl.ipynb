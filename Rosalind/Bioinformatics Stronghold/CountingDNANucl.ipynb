{
 "cells": [
  {
   "cell_type": "markdown",
   "metadata": {},
   "source": [
    "# Problem N1"
   ]
  },
  {
   "cell_type": "code",
   "execution_count": 1,
   "metadata": {},
   "outputs": [],
   "source": [
    "def Count_Nuc_Frequency(seq):\n",
    "    tmp_freq_dict = {\"A\": 0, \"C\": 0, \"G\": 0, \"T\": 0}\n",
    "    for nuc in seq:\n",
    "        tmp_freq_dict[nuc] += 1\n",
    "    return tmp_freq_dict"
   ]
  },
  {
   "cell_type": "code",
   "execution_count": 2,
   "metadata": {},
   "outputs": [
    {
     "name": "stdout",
     "output_type": "stream",
     "text": [
      "20 12 17 21\n"
     ]
    }
   ],
   "source": [
    "DNAString = \"AGCTTTTCATTCTGACTGCAACGGGCAATATGTCTCTGTGTGGATTAAAAAAAGAGTGTCTGATAGCAGC\"\n",
    "result = Count_Nuc_Frequency(DNAString)\n",
    "print(\" \".join([str(val) for key, val in result.items()]))\n",
    "#every single value in the dictionary, "
   ]
  },
  {
   "cell_type": "markdown",
   "metadata": {},
   "source": [
    "# Problem N2: trascribing DNA into RNA"
   ]
  },
  {
   "cell_type": "code",
   "execution_count": 3,
   "metadata": {},
   "outputs": [],
   "source": [
    "def Transcription(seq):\n",
    "    return seq.replace(\"T\", \"U\")"
   ]
  },
  {
   "cell_type": "code",
   "execution_count": 5,
   "metadata": {},
   "outputs": [
    {
     "name": "stdout",
     "output_type": "stream",
     "text": [
      "GAUGGAACUUGACUACGUAAAUU\n"
     ]
    }
   ],
   "source": [
    "DNA = \"GATGGAACTTGACTACGTAAATT\"\n",
    "result = Transcription(DNA)\n",
    "print(result)"
   ]
  },
  {
   "cell_type": "markdown",
   "metadata": {},
   "source": [
    "# Problem N3: complementing a Strand of DNA"
   ]
  },
  {
   "cell_type": "code",
   "execution_count": 12,
   "metadata": {},
   "outputs": [],
   "source": [
    "def Reverse_complement(seq):\n",
    "    Dna_Reverse_complement = {\"A\": \"T\", \"T\": \"A\", \"G\": \"C\", \"C\": \"G\"}\n",
    "    return \"\".join([Dna_Reverse_complement[nuc] for nuc in seq])[::-1]"
   ]
  },
  {
   "cell_type": "code",
   "execution_count": 15,
   "metadata": {},
   "outputs": [
    {
     "name": "stdout",
     "output_type": "stream",
     "text": [
      "ACCGGGTTTT\n"
     ]
    }
   ],
   "source": [
    "DNA = \"AAAACCCGGT\"\n",
    "result = Reverse_complement(DNA)\n",
    "print(result)"
   ]
  },
  {
   "cell_type": "markdown",
   "metadata": {},
   "source": [
    "# Problem N4: GC content"
   ]
  },
  {
   "cell_type": "code",
   "execution_count": 67,
   "metadata": {},
   "outputs": [],
   "source": [
    "def __readFile(filePath):\n",
    "    #Reading a file and returning a list of elements\n",
    "    # each element is a line from the file\n",
    "    with open(filePath, 'r') as f:\n",
    "        return [l.strip() for l in f.readlines()]"
   ]
  },
  {
   "cell_type": "code",
   "execution_count": 68,
   "metadata": {},
   "outputs": [],
   "source": [
    "def gc_content(seq):\n",
    "    return round((seq.count(\"C\") + seq.count(\"G\")) / len(seq) * 100, 6)\n",
    "# the round() function returns a rouded number"
   ]
  },
  {
   "cell_type": "code",
   "execution_count": 69,
   "metadata": {},
   "outputs": [],
   "source": [
    "#Variables to store data\n",
    "FASTAFile = __readFile(\"rosalind_gc.txt\")\n",
    "FASTADict = {}\n",
    "FASTALabel = \"\"\n",
    "for line in FASTAFile:\n",
    "    if '>' in line:\n",
    "        FASTALabel = line\n",
    "        FASTADict[FASTALabel] = \"\"\n",
    "    else:\n",
    "        FASTADict[FASTALabel] += line\n",
    "# the for loop is used to converge DNA sequences that are separated in different lines\n",
    "RESULTDict = {key: gc_content(value) for (key, value) in FASTADict.items()}\n",
    "MaxGCkey = max(RESULTDict, key = RESULTDict.get)"
   ]
  },
  {
   "cell_type": "code",
   "execution_count": 70,
   "metadata": {},
   "outputs": [
    {
     "name": "stdout",
     "output_type": "stream",
     "text": [
      "{'>Rosalind_6404': 53.75, '>Rosalind_5959': 53.571429, '>Rosalind_0808': 60.91954}\n",
      "Rosalind_0808\n",
      "60.91954\n"
     ]
    }
   ],
   "source": [
    "print(RESULTDict)\n",
    "print(f'{MaxGCkey[1:]}\\n{RESULTDict[MaxGCkey]}')"
   ]
  },
  {
   "cell_type": "code",
   "execution_count": null,
   "metadata": {},
   "outputs": [],
   "source": []
  }
 ],
 "metadata": {
  "kernelspec": {
   "display_name": "Python 3",
   "language": "python",
   "name": "python3"
  },
  "language_info": {
   "codemirror_mode": {
    "name": "ipython",
    "version": 3
   },
   "file_extension": ".py",
   "mimetype": "text/x-python",
   "name": "python",
   "nbconvert_exporter": "python",
   "pygments_lexer": "ipython3",
   "version": "3.8.3"
  }
 },
 "nbformat": 4,
 "nbformat_minor": 4
}
