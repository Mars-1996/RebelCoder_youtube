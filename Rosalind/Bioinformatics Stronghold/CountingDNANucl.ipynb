{
 "cells": [
  {
   "cell_type": "code",
   "execution_count": 2,
   "metadata": {},
   "outputs": [],
   "source": [
    "def Count_Nuc_Frequency(seq):\n",
    "    tmp_freq_dict = {\"A\": 0, \"C\": 0, \"G\": 0, \"T\": 0}\n",
    "    for nuc in seq:\n",
    "        tmp_freq_dict[nuc] += 1\n",
    "    return tmp_freq_dict"
   ]
  },
  {
   "cell_type": "code",
   "execution_count": 10,
   "metadata": {},
   "outputs": [
    {
     "name": "stdout",
     "output_type": "stream",
     "text": [
      "238 237 232 213\n"
     ]
    }
   ],
   "source": [
    "DNAString = \"AGGTGGTTATGACAGGCCCAAGACGACTTATCTCATCGCCCCTGTTCTGGGTCGCTGTTCCAAGTAGCAACTGCCCGCGAGTTGTGCCAACATGTCCTGCGACGACTGACGTAGCAGGGAGGGTCCCAAGCGTCATGTACGCTCTAGCGGAATCGGTCTCTTTGTGGTCCCGCATTCACTGTCGCTTGTTCAGCCTCTTGCGACTTTCAGCAACAGTGTCCTATCTAGATCTCTACATCGAGACCCACACCCTTTTGAGCACGCTACGTACGGTTCTAGAAGAATGGCTACGGGAATGTGCGCCTCCGTATCAAGCGCCCATTAAGGAGCTCGCCCCTGCAATACCCCTAAGCTATCTGGCACCCTCCCACTTGAAGAGCCCAGTCGGACACAATGAGGGTTGAAAACGAGCGCCACTCAATGAAGGCATATCCGAACGAAAGCTAGTTTCCTCAAATAGAGCTGGACCTTTAGGAACTGTGTGGGGTGCGTCTAAGGCACGGTTGGAAGTGACGGTGATATCCTCAAATACATGAGTTTTCGGACCCTAGGTCTGTCTGTCAGGGATGGACTGCTCGGCTCATATGACGTCAGGAGCTGCAAATCATATCGGACCGGTTTACAGGAAGGATGCGCGGACAATCTCACTATCAAAGCAATATGATCTGTATTAACGACGTACATGGGAGTAAGATTGGCAGCTCAGAAACGTAATATGCGTGGATAATTGAAATATGTGCGTCTTTGTCACGAGACTACGGCCGTGCAACACGATACGATAGCGCTCCCCGGCGTAACACGCTGACTAAAAACTGGATAGAGGTGCAGTGAACCTAGATCCGTCCCTCAGTGAGCGACATTTGTGGTGACGAACATAACTTCCCAACAAGAATACGCCACCAGTCTACCAGGTAATAAAT\"\n",
    "result = Count_Nuc_Frequency(DNAString)\n",
    "print(\" \".join([str(val) for key, val in result.items()]))\n",
    "#every single value in the dictionary, "
   ]
  },
  {
   "cell_type": "code",
   "execution_count": null,
   "metadata": {},
   "outputs": [],
   "source": []
  }
 ],
 "metadata": {
  "kernelspec": {
   "display_name": "Python 3",
   "language": "python",
   "name": "python3"
  },
  "language_info": {
   "codemirror_mode": {
    "name": "ipython",
    "version": 3
   },
   "file_extension": ".py",
   "mimetype": "text/x-python",
   "name": "python",
   "nbconvert_exporter": "python",
   "pygments_lexer": "ipython3",
   "version": "3.8.3"
  }
 },
 "nbformat": 4,
 "nbformat_minor": 4
}
