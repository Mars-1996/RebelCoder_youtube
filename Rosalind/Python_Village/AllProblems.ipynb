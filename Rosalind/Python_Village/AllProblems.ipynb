{
 "cells": [
  {
   "cell_type": "code",
   "execution_count": 2,
   "metadata": {},
   "outputs": [],
   "source": [
    "#import this"
   ]
  },
  {
   "cell_type": "markdown",
   "metadata": {},
   "source": [
    "# Problem N2"
   ]
  },
  {
   "cell_type": "code",
   "execution_count": 3,
   "metadata": {},
   "outputs": [
    {
     "name": "stdout",
     "output_type": "stream",
     "text": [
      "3^2 + 5^2 = 34\n"
     ]
    }
   ],
   "source": [
    "a = 3\n",
    "b = 5\n",
    "print(f'{a}^2 + {b}^2 = {a**2 + b**2}')"
   ]
  },
  {
   "cell_type": "markdown",
   "metadata": {},
   "source": [
    "# F-STRING"
   ]
  },
  {
   "cell_type": "code",
   "execution_count": 3,
   "metadata": {},
   "outputs": [
    {
     "name": "stdout",
     "output_type": "stream",
     "text": [
      "My name is Marcella Franco\n"
     ]
    }
   ],
   "source": [
    "first_name = \"Marcella\"\n",
    "last_name = \"Franco\"\n",
    "sentence = \"My name is {} {}\".format(first_name, last_name)\n",
    "print(sentence)\n",
    "#the format() method insert values inside string's placeholders, that are defined using {}"
   ]
  },
  {
   "cell_type": "code",
   "execution_count": 3,
   "metadata": {},
   "outputs": [
    {
     "name": "stdout",
     "output_type": "stream",
     "text": [
      "My name is Marcella Franco\n"
     ]
    }
   ],
   "source": [
    "sentence = f\"My name is {first_name} {last_name}\"\n",
    "print(sentence)\n",
    "#the f-string works as the format() method, it inserts values within the string"
   ]
  },
  {
   "cell_type": "code",
   "execution_count": 4,
   "metadata": {},
   "outputs": [
    {
     "name": "stdout",
     "output_type": "stream",
     "text": [
      "My name is MARCELLA FRANCO\n"
     ]
    }
   ],
   "source": [
    "sentence = f\"My name is {first_name.upper()} {last_name.upper()}\"\n",
    "print(sentence)\n",
    "#with the f-string I can directly run functions/methods."
   ]
  },
  {
   "cell_type": "code",
   "execution_count": 1,
   "metadata": {},
   "outputs": [
    {
     "name": "stdout",
     "output_type": "stream",
     "text": [
      "My name is Marcella and I am 25 years old\n"
     ]
    }
   ],
   "source": [
    "person = {\"name\": \"Marcella\", \"age\": 25} #dictionary\n",
    "sentence = \"My name is {} and I am {} years old\".format(person[\"name\"], person[\"age\"])\n",
    "print(sentence)\n",
    "#I can use the format() method with dictionaries"
   ]
  },
  {
   "cell_type": "code",
   "execution_count": 6,
   "metadata": {},
   "outputs": [
    {
     "name": "stdout",
     "output_type": "stream",
     "text": [
      "My name is Marcella and I am 25 years old\n"
     ]
    }
   ],
   "source": [
    "sentence = f\"My name is {person['name']} and I am {person['age']} years old\"\n",
    "print(sentence)\n",
    "#With the f-string I have to use \"\" or '', but if I am working with a dictionary, to access keys I also use \"\" or ''.\n",
    "#It is important to use different kinds of quotes (\"\" or '') for dictionaries' keys and the f-string.\n",
    "#If I use \"\" in both, the f-string will terminate as soon as it encounters the second \", thus not concluding the sentence and giving a sintax error"
   ]
  },
  {
   "cell_type": "code",
   "execution_count": 7,
   "metadata": {},
   "outputs": [
    {
     "name": "stdout",
     "output_type": "stream",
     "text": [
      "4 times 11 is equal to 44\n"
     ]
    }
   ],
   "source": [
    "calculation = f\"4 times 11 is equal to {4 * 11}\"\n",
    "print(calculation)\n",
    "#I can use the f-string for calculations"
   ]
  },
  {
   "cell_type": "code",
   "execution_count": 8,
   "metadata": {},
   "outputs": [
    {
     "name": "stdout",
     "output_type": "stream",
     "text": [
      "The value is 1\n",
      "The value is 2\n",
      "The value is 3\n",
      "The value is 4\n",
      "The value is 5\n",
      "The value is 6\n",
      "The value is 7\n",
      "The value is 8\n",
      "The value is 9\n",
      "The value is 10\n"
     ]
    }
   ],
   "source": [
    "for n in range(1, 11): #from 1 to 10, 11 not considered\n",
    "    sentence = f\"The value is {n}\"\n",
    "    print(sentence)    "
   ]
  },
  {
   "cell_type": "code",
   "execution_count": 11,
   "metadata": {},
   "outputs": [
    {
     "name": "stdout",
     "output_type": "stream",
     "text": [
      "The value is 01\n",
      "The value is 02\n",
      "The value is 03\n",
      "The value is 04\n",
      "The value is 05\n",
      "The value is 06\n",
      "The value is 07\n",
      "The value is 08\n",
      "The value is 09\n",
      "The value is 10\n"
     ]
    }
   ],
   "source": [
    "for n in range(1, 11):\n",
    "    sentence = f\"The value is {n:02}\"\n",
    "    print(sentence)\n",
    "#the 0 is added in front of the n value in order to get a number of 2 digits\n",
    "#If i want a numbre of four digits 0001 then I specify it {n:04}"
   ]
  },
  {
   "cell_type": "code",
   "execution_count": 12,
   "metadata": {},
   "outputs": [
    {
     "name": "stdout",
     "output_type": "stream",
     "text": [
      "Pi is equal to 3.14159265\n"
     ]
    }
   ],
   "source": [
    "pi = 3.14159265\n",
    "sentence = f\"Pi is equal to {pi}\"\n",
    "print(sentence)"
   ]
  },
  {
   "cell_type": "code",
   "execution_count": 13,
   "metadata": {},
   "outputs": [
    {
     "name": "stdout",
     "output_type": "stream",
     "text": [
      "Pi is equal to 3.1416\n"
     ]
    }
   ],
   "source": [
    "sentence = f\"Pi is equal to {pi:.4f}\"\n",
    "print(sentence)\n",
    "#I add extra formatting after :\n",
    "#. to specify a floating point\n",
    "# 4 to get four digits\n",
    "#f for floating point value\n",
    "#i round to the specified digit"
   ]
  },
  {
   "cell_type": "code",
   "execution_count": 14,
   "metadata": {},
   "outputs": [
    {
     "name": "stdout",
     "output_type": "stream",
     "text": [
      "Jenn has birthday on 1990-01-01 00:00:00\n"
     ]
    }
   ],
   "source": [
    "from datetime import datetime\n",
    "birthday = datetime(1990, 1, 1)\n",
    "sentence = f\"Jenn has birthday on {birthday}\"\n",
    "print(sentence)"
   ]
  },
  {
   "cell_type": "code",
   "execution_count": 16,
   "metadata": {},
   "outputs": [
    {
     "name": "stdout",
     "output_type": "stream",
     "text": [
      "Jenn has birthday on  January 01, 1990\n"
     ]
    }
   ],
   "source": [
    "from datetime import datetime\n",
    "birthday = datetime(1990, 1, 1)\n",
    "sentence = f\"Jenn has birthday on {birthday: %B %d, %Y}\"\n",
    "print(sentence)\n",
    "#look at the date time documentation: https://docs.python.org/3/library/datetime.html\n",
    "# %B to have the month first\n",
    "# %d to get the day\n",
    "# %Y for the year"
   ]
  },
  {
   "cell_type": "markdown",
   "metadata": {},
   "source": [
    "# Problem N3: string slicing"
   ]
  },
  {
   "cell_type": "code",
   "execution_count": 19,
   "metadata": {},
   "outputs": [
    {
     "name": "stdout",
     "output_type": "stream",
     "text": [
      "Humpty Dumpty\n"
     ]
    }
   ],
   "source": [
    "word1_start = 22\n",
    "word1_end = 27\n",
    "\n",
    "word2_start = 97\n",
    "word2_end = 102\n",
    "\n",
    "txt = \"HumptyDumptysatonawallHumptyDumptyhadagreatfallAlltheKingshorsesandalltheKingsmenCouldntputHumptyDumptyinhisplaceagain\"\n",
    "\n",
    "print(f\"{txt[word1_start:word1_end + 1]} {txt[word2_start:word2_end + 1]}\")\n",
    "# +1 is needed to include the last letter at positions 27 and 102\n",
    "# remember the space between the two {}, between the two words"
   ]
  },
  {
   "cell_type": "markdown",
   "metadata": {},
   "source": [
    "# Problem N4: conditions and loops"
   ]
  },
  {
   "cell_type": "code",
   "execution_count": 2,
   "metadata": {},
   "outputs": [
    {
     "name": "stdout",
     "output_type": "stream",
     "text": [
      "7500\n"
     ]
    }
   ],
   "source": [
    "startpos = 100\n",
    "endpos = 200\n",
    "result = 0\n",
    "for x in range(startpos, endpos):\n",
    "    if x % 2 != 0: #because we want the sum of only the odd integers\n",
    "        result += x\n",
    "print(result)\n",
    "#range(startpos, endpos, 2) 2 if I want to consider every two elements "
   ]
  },
  {
   "cell_type": "code",
   "execution_count": 3,
   "metadata": {},
   "outputs": [
    {
     "name": "stdout",
     "output_type": "stream",
     "text": [
      "[101, 103, 105, 107, 109, 111, 113, 115, 117, 119, 121, 123, 125, 127, 129, 131, 133, 135, 137, 139, 141, 143, 145, 147, 149, 151, 153, 155, 157, 159, 161, 163, 165, 167, 169, 171, 173, 175, 177, 179, 181, 183, 185, 187, 189, 191, 193, 195, 197, 199]\n"
     ]
    }
   ],
   "source": [
    "startpos = 100\n",
    "endpos = 200\n",
    "result = [x for x in range(startpos, endpos) if x % 2 != 0]\n",
    "print(result)"
   ]
  },
  {
   "cell_type": "code",
   "execution_count": 84,
   "metadata": {},
   "outputs": [
    {
     "ename": "TypeError",
     "evalue": "'int' object is not callable",
     "output_type": "error",
     "traceback": [
      "\u001b[0;31m---------------------------------------------------------------------------\u001b[0m",
      "\u001b[0;31mTypeError\u001b[0m                                 Traceback (most recent call last)",
      "\u001b[0;32m<ipython-input-84-caabcaed48f0>\u001b[0m in \u001b[0;36m<module>\u001b[0;34m\u001b[0m\n\u001b[1;32m      1\u001b[0m \u001b[0mstartpos\u001b[0m \u001b[0;34m=\u001b[0m \u001b[0;36m100\u001b[0m\u001b[0;34m\u001b[0m\u001b[0;34m\u001b[0m\u001b[0m\n\u001b[1;32m      2\u001b[0m \u001b[0mendpos\u001b[0m \u001b[0;34m=\u001b[0m \u001b[0;36m200\u001b[0m\u001b[0;34m\u001b[0m\u001b[0;34m\u001b[0m\u001b[0m\n\u001b[0;32m----> 3\u001b[0;31m result = sum(\n\u001b[0m\u001b[1;32m      4\u001b[0m     \u001b[0;34m[\u001b[0m\u001b[0mx\u001b[0m \u001b[0;32mfor\u001b[0m \u001b[0mx\u001b[0m \u001b[0;32min\u001b[0m \u001b[0mrange\u001b[0m\u001b[0;34m(\u001b[0m\u001b[0mstartpos\u001b[0m\u001b[0;34m,\u001b[0m \u001b[0mendpos\u001b[0m\u001b[0;34m,\u001b[0m \u001b[0;34m+\u001b[0m\u001b[0;36m1\u001b[0m\u001b[0;34m)\u001b[0m \u001b[0;32mif\u001b[0m \u001b[0mx\u001b[0m \u001b[0;34m%\u001b[0m \u001b[0;36m2\u001b[0m \u001b[0;34m!=\u001b[0m \u001b[0;36m0\u001b[0m\u001b[0;34m]\u001b[0m\u001b[0;34m\u001b[0m\u001b[0;34m\u001b[0m\u001b[0m\n\u001b[1;32m      5\u001b[0m )\n",
      "\u001b[0;31mTypeError\u001b[0m: 'int' object is not callable"
     ]
    }
   ],
   "source": [
    "startpos = 100\n",
    "endpos = 200\n",
    "result = sum(\n",
    "    [x for x in range(startpos, endpos) if x % 2 != 0]\n",
    ")\n",
    "\n",
    "print(result)"
   ]
  },
  {
   "cell_type": "code",
   "execution_count": 5,
   "metadata": {},
   "outputs": [
    {
     "data": {
      "text/plain": [
       "3"
      ]
     },
     "execution_count": 5,
     "metadata": {},
     "output_type": "execute_result"
    }
   ],
   "source": [
    "sum([1, 2])"
   ]
  },
  {
   "cell_type": "markdown",
   "metadata": {},
   "source": [
    "# Problem N5: working with files"
   ]
  },
  {
   "cell_type": "code",
   "execution_count": 87,
   "metadata": {},
   "outputs": [
    {
     "name": "stdout",
     "output_type": "stream",
     "text": [
      "['Yes, brave Sir Robin turned about\\n', 'And gallantly he chickened out\\n', 'Bravely talking to his feet\\n', 'He beat a very brave retreat']\n"
     ]
    }
   ],
   "source": [
    "output_file = []\n",
    "with open(\"input1.txt\", \"r\") as f: \n",
    "# \"r\" = read\n",
    "    output_file = [line for pos, line in enumerate(\n",
    "        f.readlines()) if pos % 2 != 0]\n",
    "\n",
    "print(output_file)"
   ]
  },
  {
   "cell_type": "markdown",
   "metadata": {},
   "source": [
    "!!! \\n is a command for a new line"
   ]
  },
  {
   "cell_type": "code",
   "execution_count": 83,
   "metadata": {},
   "outputs": [],
   "source": [
    "with open(\"output1.txt\", \"w\") as f:    \n",
    "# \"w\" = write\n",
    "    f.write(\"\".join([line for line in output_file]))\n",
    "    \n",
    "# to create a new file with our result"
   ]
  },
  {
   "cell_type": "markdown",
   "metadata": {},
   "source": [
    "# Problem N6: dictionaries"
   ]
  },
  {
   "cell_type": "code",
   "execution_count": 97,
   "metadata": {},
   "outputs": [
    {
     "name": "stdout",
     "output_type": "stream",
     "text": [
      "We 1\n",
      "tried 3\n",
      "list 1\n",
      "and 1\n",
      "we 2\n",
      "dicts 1\n",
      "also 1\n",
      "Zen 1\n"
     ]
    }
   ],
   "source": [
    "text = \"We tried list and we tried dicts also we tried Zen\"\n",
    "wordcountDict = {}\n",
    "for word in text.split(\" \"):\n",
    "    if word in wordcountDict:\n",
    "        wordcountDict[word] += 1\n",
    "    else:\n",
    "        wordcountDict[word] = 1\n",
    "#print(text.split(\" \"))\n",
    "#['We', 'tried', 'list', 'and', 'we', 'tried', 'dicts', 'also', 'we', 'tried', 'Zen']\n",
    "#.split allows us to create a list with all the words found in the string text, separated by the space\n",
    "\n",
    "for key, value in wordcountDict.items():\n",
    "#keys are the words and values are the numbers\n",
    "    print(key, value)\n",
    "# with these final lines I get as a result simply the items found in the dictionary, but I don't print them as in a dictionary"
   ]
  },
  {
   "cell_type": "code",
   "execution_count": 114,
   "metadata": {},
   "outputs": [
    {
     "name": "stdout",
     "output_type": "stream",
     "text": [
      "We 1\n",
      "tried 3\n",
      "list 1\n",
      "and 1\n",
      "we 2\n",
      "dicts 1\n",
      "also 1\n",
      "Zen 1\n"
     ]
    }
   ],
   "source": [
    "from collections import Counter\n",
    "with open(\"Problem6.txt\", \"r\") as f: \n",
    "    text2 = f.read()\n",
    "wordcountDict = Counter(text2.split(\" \"))\n",
    "for key, value in wordcountDict.items():\n",
    "    print(key, value)\n",
    "#Counter is a python function that calculates the elements in an object"
   ]
  }
 ],
 "metadata": {
  "kernelspec": {
   "display_name": "Python 3",
   "language": "python",
   "name": "python3"
  },
  "language_info": {
   "codemirror_mode": {
    "name": "ipython",
    "version": 3
   },
   "file_extension": ".py",
   "mimetype": "text/x-python",
   "name": "python",
   "nbconvert_exporter": "python",
   "pygments_lexer": "ipython3",
   "version": "3.8.3"
  }
 },
 "nbformat": 4,
 "nbformat_minor": 4
}
