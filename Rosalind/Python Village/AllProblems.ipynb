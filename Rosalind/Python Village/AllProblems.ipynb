{
 "cells": [
  {
   "cell_type": "code",
   "execution_count": 2,
   "metadata": {},
   "outputs": [],
   "source": [
    "#import this"
   ]
  },
  {
   "cell_type": "code",
   "execution_count": 3,
   "metadata": {},
   "outputs": [
    {
     "name": "stdout",
     "output_type": "stream",
     "text": [
      "3^2 + 5^2 = 34\n"
     ]
    }
   ],
   "source": [
    "a = 3\n",
    "b = 5\n",
    "print(f'{a}^2 + {b}^2 = {a**2 + b**2}')"
   ]
  },
  {
   "cell_type": "markdown",
   "metadata": {},
   "source": [
    "F-STRING"
   ]
  },
  {
   "cell_type": "code",
   "execution_count": 3,
   "metadata": {},
   "outputs": [
    {
     "name": "stdout",
     "output_type": "stream",
     "text": [
      "My name is Marcella Franco\n"
     ]
    }
   ],
   "source": [
    "first_name = \"Marcella\"\n",
    "last_name = \"Franco\"\n",
    "sentence = \"My name is {} {}\".format(first_name, last_name)\n",
    "print(sentence)\n",
    "#the format() method insert values inside string's placeholders, that are defined using {}"
   ]
  },
  {
   "cell_type": "code",
   "execution_count": 3,
   "metadata": {},
   "outputs": [
    {
     "name": "stdout",
     "output_type": "stream",
     "text": [
      "My name is Marcella Franco\n"
     ]
    }
   ],
   "source": [
    "sentence = f\"My name is {first_name} {last_name}\"\n",
    "print(sentence)\n",
    "#the f-string works as the format() method, it inserts values within the string"
   ]
  },
  {
   "cell_type": "code",
   "execution_count": 4,
   "metadata": {},
   "outputs": [
    {
     "name": "stdout",
     "output_type": "stream",
     "text": [
      "My name is MARCELLA FRANCO\n"
     ]
    }
   ],
   "source": [
    "sentence = f\"My name is {first_name.upper()} {last_name.upper()}\"\n",
    "print(sentence)\n",
    "#with the f-string I can directly run functions/methods."
   ]
  },
  {
   "cell_type": "code",
   "execution_count": 1,
   "metadata": {},
   "outputs": [
    {
     "name": "stdout",
     "output_type": "stream",
     "text": [
      "My name is Marcella and I am 25 years old\n"
     ]
    }
   ],
   "source": [
    "person = {\"name\": \"Marcella\", \"age\": 25} #dictionary\n",
    "sentence = \"My name is {} and I am {} years old\".format(person[\"name\"], person[\"age\"])\n",
    "print(sentence)\n",
    "#I can use the format() method with dictionaries"
   ]
  },
  {
   "cell_type": "code",
   "execution_count": 6,
   "metadata": {},
   "outputs": [
    {
     "name": "stdout",
     "output_type": "stream",
     "text": [
      "My name is Marcella and I am 25 years old\n"
     ]
    }
   ],
   "source": [
    "sentence = f\"My name is {person['name']} and I am {person['age']} years old\"\n",
    "print(sentence)\n",
    "#With the f-string I have to use \"\" or '', but if I am working with a dictionary, to access keys I also use \"\" or ''.\n",
    "#It is important to use different kinds of quotes (\"\" or '') for dictionaries' keys and the f-string.\n",
    "#If I use \"\" in both, the f-string will terminate as soon as it encounters the second \", thus not concluding the sentence and giving a sintax error"
   ]
  },
  {
   "cell_type": "code",
   "execution_count": 7,
   "metadata": {},
   "outputs": [
    {
     "name": "stdout",
     "output_type": "stream",
     "text": [
      "4 times 11 is equal to 44\n"
     ]
    }
   ],
   "source": [
    "calculation = f\"4 times 11 is equal to {4 * 11}\"\n",
    "print(calculation)\n",
    "#I can use the f-string for calculations"
   ]
  },
  {
   "cell_type": "code",
   "execution_count": 8,
   "metadata": {},
   "outputs": [
    {
     "name": "stdout",
     "output_type": "stream",
     "text": [
      "The value is 1\n",
      "The value is 2\n",
      "The value is 3\n",
      "The value is 4\n",
      "The value is 5\n",
      "The value is 6\n",
      "The value is 7\n",
      "The value is 8\n",
      "The value is 9\n",
      "The value is 10\n"
     ]
    }
   ],
   "source": [
    "for n in range(1, 11): #from 1 to 10, 11 not considered\n",
    "    sentence = f\"The value is {n}\"\n",
    "    print(sentence)    "
   ]
  },
  {
   "cell_type": "code",
   "execution_count": 11,
   "metadata": {},
   "outputs": [
    {
     "name": "stdout",
     "output_type": "stream",
     "text": [
      "The value is 01\n",
      "The value is 02\n",
      "The value is 03\n",
      "The value is 04\n",
      "The value is 05\n",
      "The value is 06\n",
      "The value is 07\n",
      "The value is 08\n",
      "The value is 09\n",
      "The value is 10\n"
     ]
    }
   ],
   "source": [
    "for n in range(1, 11):\n",
    "    sentence = f\"The value is {n:02}\"\n",
    "    print(sentence)\n",
    "#the 0 is added in front of the n value in order to get a number of 2 digits\n",
    "#If i want a numbre of four digits 0001 then I specify it {n:04}"
   ]
  },
  {
   "cell_type": "code",
   "execution_count": 12,
   "metadata": {},
   "outputs": [
    {
     "name": "stdout",
     "output_type": "stream",
     "text": [
      "Pi is equal to 3.14159265\n"
     ]
    }
   ],
   "source": [
    "pi = 3.14159265\n",
    "sentence = f\"Pi is equal to {pi}\"\n",
    "print(sentence)"
   ]
  },
  {
   "cell_type": "code",
   "execution_count": 13,
   "metadata": {},
   "outputs": [
    {
     "name": "stdout",
     "output_type": "stream",
     "text": [
      "Pi is equal to 3.1416\n"
     ]
    }
   ],
   "source": [
    "sentence = f\"Pi is equal to {pi:.4f}\"\n",
    "print(sentence)\n",
    "#I add extra formatting after :\n",
    "#. to specify a floating point\n",
    "# 4 to get four digits\n",
    "#f for floating point value\n",
    "#i round to the specified digit"
   ]
  },
  {
   "cell_type": "code",
   "execution_count": 14,
   "metadata": {},
   "outputs": [
    {
     "name": "stdout",
     "output_type": "stream",
     "text": [
      "Jenn has birthday on 1990-01-01 00:00:00\n"
     ]
    }
   ],
   "source": [
    "from datetime import datetime\n",
    "birthday = datetime(1990, 1, 1)\n",
    "sentence = f\"Jenn has birthday on {birthday}\"\n",
    "print(sentence)"
   ]
  },
  {
   "cell_type": "code",
   "execution_count": 16,
   "metadata": {},
   "outputs": [
    {
     "name": "stdout",
     "output_type": "stream",
     "text": [
      "Jenn has birthday on  January 01, 1990\n"
     ]
    }
   ],
   "source": [
    "from datetime import datetime\n",
    "birthday = datetime(1990, 1, 1)\n",
    "sentence = f\"Jenn has birthday on {birthday: %B %d, %Y}\"\n",
    "print(sentence)\n",
    "#look at the date time documentation: https://docs.python.org/3/library/datetime.html\n",
    "# %B to have the month first\n",
    "# %d to get the day\n",
    "# %Y for the year"
   ]
  },
  {
   "cell_type": "code",
   "execution_count": null,
   "metadata": {},
   "outputs": [],
   "source": []
  }
 ],
 "metadata": {
  "kernelspec": {
   "display_name": "Python 3",
   "language": "python",
   "name": "python3"
  },
  "language_info": {
   "codemirror_mode": {
    "name": "ipython",
    "version": 3
   },
   "file_extension": ".py",
   "mimetype": "text/x-python",
   "name": "python",
   "nbconvert_exporter": "python",
   "pygments_lexer": "ipython3",
   "version": "3.8.3"
  }
 },
 "nbformat": 4,
 "nbformat_minor": 4
}
